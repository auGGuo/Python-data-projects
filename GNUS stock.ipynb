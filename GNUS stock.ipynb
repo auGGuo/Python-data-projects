{
 "cells": [
  {
   "cell_type": "code",
   "execution_count": 30,
   "metadata": {},
   "outputs": [
    {
     "name": "stdout",
     "output_type": "stream",
     "text": [
      "Requirement already satisfied: pandas-datareader in /Users/augustguo/opt/anaconda3/lib/python3.7/site-packages (0.8.1)\n",
      "Requirement already satisfied: lxml in /Users/augustguo/opt/anaconda3/lib/python3.7/site-packages (from pandas-datareader) (4.4.1)\n",
      "Requirement already satisfied: pandas>=0.21 in /Users/augustguo/opt/anaconda3/lib/python3.7/site-packages (from pandas-datareader) (0.25.1)\n",
      "Requirement already satisfied: requests>=2.3.0 in /Users/augustguo/opt/anaconda3/lib/python3.7/site-packages (from pandas-datareader) (2.22.0)\n",
      "Requirement already satisfied: python-dateutil>=2.6.1 in /Users/augustguo/opt/anaconda3/lib/python3.7/site-packages (from pandas>=0.21->pandas-datareader) (2.8.0)\n",
      "Requirement already satisfied: numpy>=1.13.3 in /Users/augustguo/opt/anaconda3/lib/python3.7/site-packages (from pandas>=0.21->pandas-datareader) (1.17.2)\n",
      "Requirement already satisfied: pytz>=2017.2 in /Users/augustguo/opt/anaconda3/lib/python3.7/site-packages (from pandas>=0.21->pandas-datareader) (2019.3)\n",
      "Requirement already satisfied: idna<2.9,>=2.5 in /Users/augustguo/opt/anaconda3/lib/python3.7/site-packages (from requests>=2.3.0->pandas-datareader) (2.8)\n",
      "Requirement already satisfied: chardet<3.1.0,>=3.0.2 in /Users/augustguo/opt/anaconda3/lib/python3.7/site-packages (from requests>=2.3.0->pandas-datareader) (3.0.4)\n",
      "Requirement already satisfied: certifi>=2017.4.17 in /Users/augustguo/opt/anaconda3/lib/python3.7/site-packages (from requests>=2.3.0->pandas-datareader) (2019.9.11)\n",
      "Requirement already satisfied: urllib3!=1.25.0,!=1.25.1,<1.26,>=1.21.1 in /Users/augustguo/opt/anaconda3/lib/python3.7/site-packages (from requests>=2.3.0->pandas-datareader) (1.24.2)\n",
      "Requirement already satisfied: six>=1.5 in /Users/augustguo/opt/anaconda3/lib/python3.7/site-packages (from python-dateutil>=2.6.1->pandas>=0.21->pandas-datareader) (1.12.0)\n"
     ]
    }
   ],
   "source": [
    "%%bash\n",
    "pip install pandas-datareader"
   ]
  },
  {
   "cell_type": "code",
   "execution_count": 31,
   "metadata": {},
   "outputs": [
    {
     "name": "stdout",
     "output_type": "stream",
     "text": [
      "Name: scikit-learn\n",
      "Version: 0.23.1\n",
      "Summary: A set of python modules for machine learning and data mining\n",
      "Home-page: http://scikit-learn.org\n",
      "Author: None\n",
      "Author-email: None\n",
      "License: new BSD\n",
      "Location: /Users/augustguo/opt/anaconda3/lib/python3.7/site-packages\n",
      "Requires: threadpoolctl, scipy, numpy, joblib\n",
      "Required-by: \n",
      "Note: you may need to restart the kernel to use updated packages.\n"
     ]
    }
   ],
   "source": [
    "pip show scikit-learn # to see which version and where scikit-learn is installed"
   ]
  },
  {
   "cell_type": "code",
   "execution_count": 32,
   "metadata": {},
   "outputs": [
    {
     "name": "stdout",
     "output_type": "stream",
     "text": [
      "Requirement already up-to-date: scikit-learn in /Users/augustguo/opt/anaconda3/lib/python3.7/site-packages (0.23.1)\n",
      "Requirement already satisfied, skipping upgrade: threadpoolctl>=2.0.0 in /Users/augustguo/opt/anaconda3/lib/python3.7/site-packages (from scikit-learn) (2.1.0)\n",
      "Requirement already satisfied, skipping upgrade: scipy>=0.19.1 in /Users/augustguo/opt/anaconda3/lib/python3.7/site-packages (from scikit-learn) (1.3.1)\n",
      "Requirement already satisfied, skipping upgrade: numpy>=1.13.3 in /Users/augustguo/opt/anaconda3/lib/python3.7/site-packages (from scikit-learn) (1.17.2)\n",
      "Requirement already satisfied, skipping upgrade: joblib>=0.11 in /Users/augustguo/opt/anaconda3/lib/python3.7/site-packages (from scikit-learn) (0.13.2)\n",
      "Note: you may need to restart the kernel to use updated packages.\n"
     ]
    }
   ],
   "source": [
    "pip install -U scikit-learn"
   ]
  },
  {
   "cell_type": "code",
   "execution_count": 33,
   "metadata": {},
   "outputs": [
    {
     "name": "stdout",
     "output_type": "stream",
     "text": [
      "Collecting package metadata (current_repodata.json): done\n",
      "Solving environment: done\n",
      "\n",
      "# All requested packages already installed.\n",
      "\n"
     ]
    }
   ],
   "source": [
    "!conda install -c conda-forge keras --yes"
   ]
  },
  {
   "cell_type": "code",
   "execution_count": null,
   "metadata": {},
   "outputs": [],
   "source": []
  },
  {
   "cell_type": "code",
   "execution_count": 34,
   "metadata": {},
   "outputs": [],
   "source": [
    "import math\n",
    "import pandas_datareader.data as web\n",
    "import numpy as np \n",
    "import pandas as pd\n",
    "from sklearn.preprocessing import MinMaxScaler\n",
    "from keras.models import Sequential\n",
    "from keras.layers import Dense, LSTM\n",
    "import matplotlib.pyplot as plt\n",
    "plt.style.use('fivethirtyeight')"
   ]
  },
  {
   "cell_type": "code",
   "execution_count": 35,
   "metadata": {},
   "outputs": [
    {
     "data": {
      "text/html": [
       "<div>\n",
       "<style scoped>\n",
       "    .dataframe tbody tr th:only-of-type {\n",
       "        vertical-align: middle;\n",
       "    }\n",
       "\n",
       "    .dataframe tbody tr th {\n",
       "        vertical-align: top;\n",
       "    }\n",
       "\n",
       "    .dataframe thead th {\n",
       "        text-align: right;\n",
       "    }\n",
       "</style>\n",
       "<table border=\"1\" class=\"dataframe\">\n",
       "  <thead>\n",
       "    <tr style=\"text-align: right;\">\n",
       "      <th></th>\n",
       "      <th>High</th>\n",
       "      <th>Low</th>\n",
       "      <th>Open</th>\n",
       "      <th>Close</th>\n",
       "      <th>Volume</th>\n",
       "      <th>Adj Close</th>\n",
       "    </tr>\n",
       "    <tr>\n",
       "      <th>Date</th>\n",
       "      <th></th>\n",
       "      <th></th>\n",
       "      <th></th>\n",
       "      <th></th>\n",
       "      <th></th>\n",
       "      <th></th>\n",
       "    </tr>\n",
       "  </thead>\n",
       "  <tbody>\n",
       "    <tr>\n",
       "      <td>2020-01-02</td>\n",
       "      <td>0.310</td>\n",
       "      <td>0.275</td>\n",
       "      <td>0.300</td>\n",
       "      <td>0.285</td>\n",
       "      <td>1032200</td>\n",
       "      <td>0.285</td>\n",
       "    </tr>\n",
       "    <tr>\n",
       "      <td>2020-01-03</td>\n",
       "      <td>0.294</td>\n",
       "      <td>0.260</td>\n",
       "      <td>0.280</td>\n",
       "      <td>0.270</td>\n",
       "      <td>557700</td>\n",
       "      <td>0.270</td>\n",
       "    </tr>\n",
       "    <tr>\n",
       "      <td>2020-01-06</td>\n",
       "      <td>0.408</td>\n",
       "      <td>0.265</td>\n",
       "      <td>0.280</td>\n",
       "      <td>0.370</td>\n",
       "      <td>4131900</td>\n",
       "      <td>0.370</td>\n",
       "    </tr>\n",
       "    <tr>\n",
       "      <td>2020-01-07</td>\n",
       "      <td>0.380</td>\n",
       "      <td>0.280</td>\n",
       "      <td>0.379</td>\n",
       "      <td>0.360</td>\n",
       "      <td>1415400</td>\n",
       "      <td>0.360</td>\n",
       "    </tr>\n",
       "    <tr>\n",
       "      <td>2020-01-08</td>\n",
       "      <td>0.349</td>\n",
       "      <td>0.304</td>\n",
       "      <td>0.340</td>\n",
       "      <td>0.335</td>\n",
       "      <td>514300</td>\n",
       "      <td>0.335</td>\n",
       "    </tr>\n",
       "    <tr>\n",
       "      <td>...</td>\n",
       "      <td>...</td>\n",
       "      <td>...</td>\n",
       "      <td>...</td>\n",
       "      <td>...</td>\n",
       "      <td>...</td>\n",
       "      <td>...</td>\n",
       "    </tr>\n",
       "    <tr>\n",
       "      <td>2020-06-01</td>\n",
       "      <td>2.680</td>\n",
       "      <td>2.330</td>\n",
       "      <td>2.390</td>\n",
       "      <td>2.620</td>\n",
       "      <td>47753600</td>\n",
       "      <td>2.620</td>\n",
       "    </tr>\n",
       "    <tr>\n",
       "      <td>2020-06-02</td>\n",
       "      <td>4.050</td>\n",
       "      <td>2.910</td>\n",
       "      <td>3.080</td>\n",
       "      <td>4.020</td>\n",
       "      <td>185150900</td>\n",
       "      <td>4.020</td>\n",
       "    </tr>\n",
       "    <tr>\n",
       "      <td>2020-06-03</td>\n",
       "      <td>8.000</td>\n",
       "      <td>4.760</td>\n",
       "      <td>4.950</td>\n",
       "      <td>7.930</td>\n",
       "      <td>409160100</td>\n",
       "      <td>7.930</td>\n",
       "    </tr>\n",
       "    <tr>\n",
       "      <td>2020-06-04</td>\n",
       "      <td>11.730</td>\n",
       "      <td>4.250</td>\n",
       "      <td>9.530</td>\n",
       "      <td>6.860</td>\n",
       "      <td>234567800</td>\n",
       "      <td>6.860</td>\n",
       "    </tr>\n",
       "    <tr>\n",
       "      <td>2020-06-05</td>\n",
       "      <td>7.350</td>\n",
       "      <td>5.000</td>\n",
       "      <td>6.160</td>\n",
       "      <td>5.940</td>\n",
       "      <td>102487700</td>\n",
       "      <td>5.940</td>\n",
       "    </tr>\n",
       "  </tbody>\n",
       "</table>\n",
       "<p>108 rows × 6 columns</p>\n",
       "</div>"
      ],
      "text/plain": [
       "              High    Low   Open  Close     Volume  Adj Close\n",
       "Date                                                         \n",
       "2020-01-02   0.310  0.275  0.300  0.285    1032200      0.285\n",
       "2020-01-03   0.294  0.260  0.280  0.270     557700      0.270\n",
       "2020-01-06   0.408  0.265  0.280  0.370    4131900      0.370\n",
       "2020-01-07   0.380  0.280  0.379  0.360    1415400      0.360\n",
       "2020-01-08   0.349  0.304  0.340  0.335     514300      0.335\n",
       "...            ...    ...    ...    ...        ...        ...\n",
       "2020-06-01   2.680  2.330  2.390  2.620   47753600      2.620\n",
       "2020-06-02   4.050  2.910  3.080  4.020  185150900      4.020\n",
       "2020-06-03   8.000  4.760  4.950  7.930  409160100      7.930\n",
       "2020-06-04  11.730  4.250  9.530  6.860  234567800      6.860\n",
       "2020-06-05   7.350  5.000  6.160  5.940  102487700      5.940\n",
       "\n",
       "[108 rows x 6 columns]"
      ]
     },
     "execution_count": 35,
     "metadata": {},
     "output_type": "execute_result"
    }
   ],
   "source": [
    "# Define the instruments to download. We would like to see Apple, Microsoft.\n",
    "company_list = ['AAPL']\n",
    "\n",
    "start_date = '2020-01-01'\n",
    "end_date = '2020-6-06'\n",
    "\n",
    "df = web.DataReader('GNUS', 'yahoo', start_date, end_date)\n",
    "df"
   ]
  },
  {
   "cell_type": "code",
   "execution_count": 36,
   "metadata": {},
   "outputs": [
    {
     "data": {
      "text/plain": [
       "(108, 6)"
      ]
     },
     "execution_count": 36,
     "metadata": {},
     "output_type": "execute_result"
    }
   ],
   "source": [
    "#get the numbers of rows and columns in the dataframe\n",
    "df.shape"
   ]
  },
  {
   "cell_type": "code",
   "execution_count": 37,
   "metadata": {},
   "outputs": [
    {
     "data": {
      "text/plain": [
       "[<matplotlib.lines.Line2D at 0x1a2c6aca50>]"
      ]
     },
     "execution_count": 37,
     "metadata": {},
     "output_type": "execute_result"
    },
    {
     "data": {
      "image/png": "[encoded data removed]",
      "text/plain": [
       "<Figure size 864x576 with 1 Axes>"
      ]
     },
     "metadata": {},
     "output_type": "display_data"
    }
   ],
   "source": [
    "#visualize the closing price history \n",
    "plt.figure(figsize=(12, 8))\n",
    "plt.title('Close Price History')\n",
    "plt.xlabel('Date', fontsize=18)\n",
    "plt.ylabel('Price in USD($)', fontsize=18)\n",
    "plt.plot(df['Close'])"
   ]
  },
  {
   "cell_type": "code",
   "execution_count": 38,
   "metadata": {},
   "outputs": [
    {
     "data": {
      "text/html": [
       "<div>\n",
       "<style scoped>\n",
       "    .dataframe tbody tr th:only-of-type {\n",
       "        vertical-align: middle;\n",
       "    }\n",
       "\n",
       "    .dataframe tbody tr th {\n",
       "        vertical-align: top;\n",
       "    }\n",
       "\n",
       "    .dataframe thead th {\n",
       "        text-align: right;\n",
       "    }\n",
       "</style>\n",
       "<table border=\"1\" class=\"dataframe\">\n",
       "  <thead>\n",
       "    <tr style=\"text-align: right;\">\n",
       "      <th></th>\n",
       "      <th>Close</th>\n",
       "    </tr>\n",
       "    <tr>\n",
       "      <th>Date</th>\n",
       "      <th></th>\n",
       "    </tr>\n",
       "  </thead>\n",
       "  <tbody>\n",
       "    <tr>\n",
       "      <td>2020-01-02</td>\n",
       "      <td>0.285</td>\n",
       "    </tr>\n",
       "    <tr>\n",
       "      <td>2020-01-03</td>\n",
       "      <td>0.270</td>\n",
       "    </tr>\n",
       "    <tr>\n",
       "      <td>2020-01-06</td>\n",
       "      <td>0.370</td>\n",
       "    </tr>\n",
       "    <tr>\n",
       "      <td>2020-01-07</td>\n",
       "      <td>0.360</td>\n",
       "    </tr>\n",
       "    <tr>\n",
       "      <td>2020-01-08</td>\n",
       "      <td>0.335</td>\n",
       "    </tr>\n",
       "  </tbody>\n",
       "</table>\n",
       "</div>"
      ],
      "text/plain": [
       "            Close\n",
       "Date             \n",
       "2020-01-02  0.285\n",
       "2020-01-03  0.270\n",
       "2020-01-06  0.370\n",
       "2020-01-07  0.360\n",
       "2020-01-08  0.335"
      ]
     },
     "execution_count": 38,
     "metadata": {},
     "output_type": "execute_result"
    }
   ],
   "source": [
    "#create a new dataframe with only the close column \n",
    "\n",
    "data = df.filter(['Close'])\n",
    "data.head()\n",
    "\n",
    "# df.loc[:, ['Close']] will do the same"
   ]
  },
  {
   "cell_type": "code",
   "execution_count": 39,
   "metadata": {},
   "outputs": [],
   "source": [
    "#convert the dataframe to numpy array\n",
    "dataset = data.values"
   ]
  },
  {
   "cell_type": "code",
   "execution_count": 40,
   "metadata": {},
   "outputs": [
    {
     "data": {
      "text/plain": [
       "87"
      ]
     },
     "execution_count": 40,
     "metadata": {},
     "output_type": "execute_result"
    }
   ],
   "source": [
    "# get the number of columns to train the model on\n",
    "\n",
    "training_data_len = math.ceil(len(dataset) * .8)\n",
    "training_data_len"
   ]
  },
  {
   "cell_type": "code",
   "execution_count": 41,
   "metadata": {},
   "outputs": [],
   "source": [
    "#scale the data\n",
    "\n",
    "scaler = MinMaxScaler(feature_range=(0, 1))\n",
    "scaled_data = scaler.fit_transform(dataset)"
   ]
  },
  {
   "cell_type": "code",
   "execution_count": 42,
   "metadata": {},
   "outputs": [],
   "source": [
    "# create training dataset\n",
    "\n",
    "train_data = scaled_data[0:training_data_len, 0]"
   ]
  },
  {
   "cell_type": "code",
   "execution_count": 43,
   "metadata": {},
   "outputs": [
    {
     "name": "stdout",
     "output_type": "stream",
     "text": [
      "[array([0.00971503, 0.00777202, 0.02072539, 0.01943005, 0.01619171,\n",
      "       0.01049223, 0.01411917, 0.01165803, 0.01049223, 0.01243523,\n",
      "       0.01683938, 0.0123057 , 0.01554404, 0.02720207, 0.01917099,\n",
      "       0.0130829 , 0.01398964, 0.01554404, 0.01748705, 0.01450777,\n",
      "       0.01295337, 0.01256477, 0.0142487 , 0.01321244, 0.0142487 ,\n",
      "       0.01282383, 0.0126943 , 0.01165803, 0.00984456, 0.00906736,\n",
      "       0.01036269, 0.01036269, 0.01178757, 0.01360104, 0.0119171 ,\n",
      "       0.01023316, 0.00971503, 0.01023316, 0.01036269, 0.00932643,\n",
      "       0.00880829, 0.00738342, 0.00816062, 0.01036269, 0.00945596,\n",
      "       0.00518135, 0.00595855, 0.00388601, 0.        , 0.00181347,\n",
      "       0.        , 0.00194301, 0.00155441, 0.0138601 , 0.01295337,\n",
      "       0.00841969, 0.0123057 , 0.00906736, 0.01036269, 0.01165803])]\n",
      "[0.009067358710578868]\n",
      "\n",
      "[array([0.00971503, 0.00777202, 0.02072539, 0.01943005, 0.01619171,\n",
      "       0.01049223, 0.01411917, 0.01165803, 0.01049223, 0.01243523,\n",
      "       0.01683938, 0.0123057 , 0.01554404, 0.02720207, 0.01917099,\n",
      "       0.0130829 , 0.01398964, 0.01554404, 0.01748705, 0.01450777,\n",
      "       0.01295337, 0.01256477, 0.0142487 , 0.01321244, 0.0142487 ,\n",
      "       0.01282383, 0.0126943 , 0.01165803, 0.00984456, 0.00906736,\n",
      "       0.01036269, 0.01036269, 0.01178757, 0.01360104, 0.0119171 ,\n",
      "       0.01023316, 0.00971503, 0.01023316, 0.01036269, 0.00932643,\n",
      "       0.00880829, 0.00738342, 0.00816062, 0.01036269, 0.00945596,\n",
      "       0.00518135, 0.00595855, 0.00388601, 0.        , 0.00181347,\n",
      "       0.        , 0.00194301, 0.00155441, 0.0138601 , 0.01295337,\n",
      "       0.00841969, 0.0123057 , 0.00906736, 0.01036269, 0.01165803]), array([0.00777202, 0.02072539, 0.01943005, 0.01619171, 0.01049223,\n",
      "       0.01411917, 0.01165803, 0.01049223, 0.01243523, 0.01683938,\n",
      "       0.0123057 , 0.01554404, 0.02720207, 0.01917099, 0.0130829 ,\n",
      "       0.01398964, 0.01554404, 0.01748705, 0.01450777, 0.01295337,\n",
      "       0.01256477, 0.0142487 , 0.01321244, 0.0142487 , 0.01282383,\n",
      "       0.0126943 , 0.01165803, 0.00984456, 0.00906736, 0.01036269,\n",
      "       0.01036269, 0.01178757, 0.01360104, 0.0119171 , 0.01023316,\n",
      "       0.00971503, 0.01023316, 0.01036269, 0.00932643, 0.00880829,\n",
      "       0.00738342, 0.00816062, 0.01036269, 0.00945596, 0.00518135,\n",
      "       0.00595855, 0.00388601, 0.        , 0.00181347, 0.        ,\n",
      "       0.00194301, 0.00155441, 0.0138601 , 0.01295337, 0.00841969,\n",
      "       0.0123057 , 0.00906736, 0.01036269, 0.01165803, 0.00906736])]\n",
      "[0.009067358710578868, 0.009326426598647419]\n",
      "\n"
     ]
    }
   ],
   "source": [
    "# split the data into x_train and y_train datasets\n",
    "x_train = []\n",
    "y_train = []\n",
    "\n",
    "for i in range(60, len(train_data)):\n",
    "    x_train.append(train_data[i-60:i])\n",
    "    y_train.append(train_data[i])\n",
    "    \n",
    "    #get a look what x_train and y_train look like\n",
    "    if i <=61:\n",
    "        print(x_train)\n",
    "        print(y_train)\n",
    "        print('')"
   ]
  },
  {
   "cell_type": "code",
   "execution_count": 44,
   "metadata": {},
   "outputs": [],
   "source": [
    "# convert x_train and y_train into numpy arrays\n",
    "\n",
    "x_train, y_train = np.array(x_train), np.array(y_train)"
   ]
  },
  {
   "cell_type": "code",
   "execution_count": 45,
   "metadata": {},
   "outputs": [
    {
     "data": {
      "text/plain": [
       "(27, 60)"
      ]
     },
     "execution_count": 45,
     "metadata": {},
     "output_type": "execute_result"
    }
   ],
   "source": [
    "x_train.shape"
   ]
  },
  {
   "cell_type": "code",
   "execution_count": 46,
   "metadata": {},
   "outputs": [
    {
     "data": {
      "text/plain": [
       "(27, 60, 1)"
      ]
     },
     "execution_count": 46,
     "metadata": {},
     "output_type": "execute_result"
    }
   ],
   "source": [
    "# reshape the data to be 3 dimensional for LSTM training as LST expect the shape as (sample#, times_step, #features)\n",
    "\n",
    "x_train = np.reshape(x_train, (x_train.shape[0], x_train.shape[1], 1))\n",
    "x_train.shape"
   ]
  },
  {
   "cell_type": "code",
   "execution_count": 47,
   "metadata": {},
   "outputs": [],
   "source": [
    "# built LSTM model \n",
    "\n",
    "model = Sequential()\n",
    "\n",
    "# add first neural network layer with 50 neurons\n",
    "model.add(LSTM(50, return_sequences=True, input_shape = (x_train.shape[1], 1)))\n",
    "\n",
    "# add second neural network layer with 50 neurons \n",
    "model.add(LSTM(50, return_sequences=False))\n",
    "\n",
    "# add a dense layer with 25 neurons \n",
    "model.add(Dense(25))\n",
    "\n",
    "# add last dense layer with 1 neuron\n",
    "model.add(Dense(1))"
   ]
  },
  {
   "cell_type": "code",
   "execution_count": 48,
   "metadata": {},
   "outputs": [],
   "source": [
    "# compile the model \n",
    "model.compile(optimizer= 'adam', loss='mean_squared_error')"
   ]
  },
  {
   "cell_type": "code",
   "execution_count": 49,
   "metadata": {},
   "outputs": [
    {
     "name": "stdout",
     "output_type": "stream",
     "text": [
      "Epoch 1/1\n",
      "27/27 [==============================] - 3s 118ms/step - loss: 6.3112e-05\n"
     ]
    },
    {
     "data": {
      "text/plain": [
       "<keras.callbacks.callbacks.History at 0x1a2d5e1b90>"
      ]
     },
     "execution_count": 49,
     "metadata": {},
     "output_type": "execute_result"
    }
   ],
   "source": [
    "# train the model\n",
    "model.fit(x_train, y_train, batch_size=1, epochs=1)"
   ]
  },
  {
   "cell_type": "code",
   "execution_count": 50,
   "metadata": {},
   "outputs": [],
   "source": [
    "# create testing data set\n",
    "# Create a new array containing scaled values from index 1543 to 2003\n",
    "\n",
    "test_data = scaled_data[training_data_len - 60:, :]"
   ]
  },
  {
   "cell_type": "code",
   "execution_count": 51,
   "metadata": {},
   "outputs": [],
   "source": [
    "x_test = []\n",
    "y_test = dataset[training_data_len:, :]\n",
    "\n",
    "for i in range(60, len(test_data)):\n",
    "    x_test.append(test_data[i-60:i, 0])\n"
   ]
  },
  {
   "cell_type": "code",
   "execution_count": 52,
   "metadata": {},
   "outputs": [],
   "source": [
    "# convert the data into numpy array for LSTM model\n",
    "\n",
    "x_test = np.array(x_test)"
   ]
  },
  {
   "cell_type": "code",
   "execution_count": 53,
   "metadata": {},
   "outputs": [],
   "source": [
    "# reshape the array for LSTM model\n",
    "\n",
    "x_test = np.reshape(x_test, (x_test.shape[0], x_test.shape[1], 1))\n",
    "\n",
    "# get the model predicted price value\n",
    "predictions = model.predict(x_test)\n",
    "predictions = scaler.inverse_transform(predictions)"
   ]
  },
  {
   "cell_type": "code",
   "execution_count": 54,
   "metadata": {},
   "outputs": [
    {
     "data": {
      "text/plain": [
       "1.8885057398251124"
      ]
     },
     "execution_count": 54,
     "metadata": {},
     "output_type": "execute_result"
    }
   ],
   "source": [
    "# get the root mean squared error (RMSE)\n",
    "\n",
    "rmse = np.sqrt(np.mean(predictions - y_test)**2)\n",
    "rmse "
   ]
  },
  {
   "cell_type": "code",
   "execution_count": 55,
   "metadata": {},
   "outputs": [
    {
     "name": "stderr",
     "output_type": "stream",
     "text": [
      "/Users/augustguo/opt/anaconda3/lib/python3.7/site-packages/ipykernel_launcher.py:5: SettingWithCopyWarning: \n",
      "A value is trying to be set on a copy of a slice from a DataFrame.\n",
      "Try using .loc[row_indexer,col_indexer] = value instead\n",
      "\n",
      "See the caveats in the documentation: http://pandas.pydata.org/pandas-docs/stable/user_guide/indexing.html#returning-a-view-versus-a-copy\n",
      "  \"\"\"\n"
     ]
    },
    {
     "data": {
      "text/html": [
       "<div>\n",
       "<style scoped>\n",
       "    .dataframe tbody tr th:only-of-type {\n",
       "        vertical-align: middle;\n",
       "    }\n",
       "\n",
       "    .dataframe tbody tr th {\n",
       "        vertical-align: top;\n",
       "    }\n",
       "\n",
       "    .dataframe thead th {\n",
       "        text-align: right;\n",
       "    }\n",
       "</style>\n",
       "<table border=\"1\" class=\"dataframe\">\n",
       "  <thead>\n",
       "    <tr style=\"text-align: right;\">\n",
       "      <th></th>\n",
       "      <th>Close</th>\n",
       "      <th>Predictions</th>\n",
       "    </tr>\n",
       "    <tr>\n",
       "      <th>Date</th>\n",
       "      <th></th>\n",
       "      <th></th>\n",
       "    </tr>\n",
       "  </thead>\n",
       "  <tbody>\n",
       "    <tr>\n",
       "      <td>2020-05-07</td>\n",
       "      <td>0.835</td>\n",
       "      <td>0.357133</td>\n",
       "    </tr>\n",
       "    <tr>\n",
       "      <td>2020-05-08</td>\n",
       "      <td>0.580</td>\n",
       "      <td>0.362079</td>\n",
       "    </tr>\n",
       "    <tr>\n",
       "      <td>2020-05-11</td>\n",
       "      <td>0.805</td>\n",
       "      <td>0.366470</td>\n",
       "    </tr>\n",
       "    <tr>\n",
       "      <td>2020-05-12</td>\n",
       "      <td>0.728</td>\n",
       "      <td>0.371867</td>\n",
       "    </tr>\n",
       "    <tr>\n",
       "      <td>2020-05-13</td>\n",
       "      <td>1.310</td>\n",
       "      <td>0.376756</td>\n",
       "    </tr>\n",
       "    <tr>\n",
       "      <td>2020-05-14</td>\n",
       "      <td>1.630</td>\n",
       "      <td>0.385416</td>\n",
       "    </tr>\n",
       "    <tr>\n",
       "      <td>2020-05-15</td>\n",
       "      <td>1.500</td>\n",
       "      <td>0.397962</td>\n",
       "    </tr>\n",
       "    <tr>\n",
       "      <td>2020-05-18</td>\n",
       "      <td>1.380</td>\n",
       "      <td>0.410590</td>\n",
       "    </tr>\n",
       "    <tr>\n",
       "      <td>2020-05-19</td>\n",
       "      <td>1.380</td>\n",
       "      <td>0.421170</td>\n",
       "    </tr>\n",
       "    <tr>\n",
       "      <td>2020-05-20</td>\n",
       "      <td>1.390</td>\n",
       "      <td>0.429606</td>\n",
       "    </tr>\n",
       "    <tr>\n",
       "      <td>2020-05-21</td>\n",
       "      <td>1.330</td>\n",
       "      <td>0.436110</td>\n",
       "    </tr>\n",
       "    <tr>\n",
       "      <td>2020-05-22</td>\n",
       "      <td>1.390</td>\n",
       "      <td>0.440423</td>\n",
       "    </tr>\n",
       "    <tr>\n",
       "      <td>2020-05-26</td>\n",
       "      <td>1.540</td>\n",
       "      <td>0.443516</td>\n",
       "    </tr>\n",
       "    <tr>\n",
       "      <td>2020-05-27</td>\n",
       "      <td>1.830</td>\n",
       "      <td>0.446763</td>\n",
       "    </tr>\n",
       "    <tr>\n",
       "      <td>2020-05-28</td>\n",
       "      <td>1.810</td>\n",
       "      <td>0.452042</td>\n",
       "    </tr>\n",
       "    <tr>\n",
       "      <td>2020-05-29</td>\n",
       "      <td>2.050</td>\n",
       "      <td>0.457817</td>\n",
       "    </tr>\n",
       "    <tr>\n",
       "      <td>2020-06-01</td>\n",
       "      <td>2.620</td>\n",
       "      <td>0.465197</td>\n",
       "    </tr>\n",
       "    <tr>\n",
       "      <td>2020-06-02</td>\n",
       "      <td>4.020</td>\n",
       "      <td>0.477323</td>\n",
       "    </tr>\n",
       "    <tr>\n",
       "      <td>2020-06-03</td>\n",
       "      <td>7.930</td>\n",
       "      <td>0.502308</td>\n",
       "    </tr>\n",
       "    <tr>\n",
       "      <td>2020-06-04</td>\n",
       "      <td>6.860</td>\n",
       "      <td>0.564342</td>\n",
       "    </tr>\n",
       "    <tr>\n",
       "      <td>2020-06-05</td>\n",
       "      <td>5.940</td>\n",
       "      <td>0.634488</td>\n",
       "    </tr>\n",
       "  </tbody>\n",
       "</table>\n",
       "</div>"
      ],
      "text/plain": [
       "            Close  Predictions\n",
       "Date                          \n",
       "2020-05-07  0.835     0.357133\n",
       "2020-05-08  0.580     0.362079\n",
       "2020-05-11  0.805     0.366470\n",
       "2020-05-12  0.728     0.371867\n",
       "2020-05-13  1.310     0.376756\n",
       "2020-05-14  1.630     0.385416\n",
       "2020-05-15  1.500     0.397962\n",
       "2020-05-18  1.380     0.410590\n",
       "2020-05-19  1.380     0.421170\n",
       "2020-05-20  1.390     0.429606\n",
       "2020-05-21  1.330     0.436110\n",
       "2020-05-22  1.390     0.440423\n",
       "2020-05-26  1.540     0.443516\n",
       "2020-05-27  1.830     0.446763\n",
       "2020-05-28  1.810     0.452042\n",
       "2020-05-29  2.050     0.457817\n",
       "2020-06-01  2.620     0.465197\n",
       "2020-06-02  4.020     0.477323\n",
       "2020-06-03  7.930     0.502308\n",
       "2020-06-04  6.860     0.564342\n",
       "2020-06-05  5.940     0.634488"
      ]
     },
     "execution_count": 55,
     "metadata": {},
     "output_type": "execute_result"
    }
   ],
   "source": [
    "# plot the data\n",
    "\n",
    "train = data[:training_data_len]\n",
    "valid = data[training_data_len:]\n",
    "valid['Predictions'] = predictions\n",
    "\n",
    "valid"
   ]
  },
  {
   "cell_type": "code",
   "execution_count": 56,
   "metadata": {},
   "outputs": [
    {
     "data": {
      "text/plain": [
       "<matplotlib.legend.Legend at 0x1a2dc911d0>"
      ]
     },
     "execution_count": 56,
     "metadata": {},
     "output_type": "execute_result"
    },
    {
     "data": {
      "image/png": "[encoded data removed]",
      "text/plain": [
       "<Figure size 1152x576 with 1 Axes>"
      ]
     },
     "metadata": {},
     "output_type": "display_data"
    }
   ],
   "source": [
    "# visualize the data \n",
    "plt.figure(figsize=(16, 8))\n",
    "plt.title('LSTM Prediction')\n",
    "plt.xlabel('Date', fontsize=18)\n",
    "plt.ylabel('Close Price USD', fontsize=18)\n",
    "\n",
    "plt.plot(train['Close'])\n",
    "plt.plot(valid[['Close', 'Predictions']])\n",
    "plt.legend(['Train', 'Validations', 'Predictions'], loc='lower right')"
   ]
  },
  {
   "cell_type": "code",
   "execution_count": null,
   "metadata": {},
   "outputs": [],
   "source": []
  }
 ],
 "metadata": {
  "kernelspec": {
   "display_name": "Python 3",
   "language": "python",
   "name": "python3"
  },
  "language_info": {
   "codemirror_mode": {
    "name": "ipython",
    "version": 3
   },
   "file_extension": ".py",
   "mimetype": "text/x-python",
   "name": "python",
   "nbconvert_exporter": "python",
   "pygments_lexer": "ipython3",
   "version": "3.7.4"
  }
 },
 "nbformat": 4,
 "nbformat_minor": 4
}
