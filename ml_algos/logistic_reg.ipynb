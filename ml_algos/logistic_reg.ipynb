{
 "cells": [
  {
   "cell_type": "code",
   "execution_count": 1,
   "metadata": {},
   "outputs": [],
   "source": [
    "import numpy as np \n",
    "import pandas as pd \n",
    "import matplotlib.pyplot as plt \n",
    "import scipy as sp\n",
    "import sklearn \n",
    "import mglearn"
   ]
  },
  {
   "cell_type": "code",
   "execution_count": 3,
   "metadata": {},
   "outputs": [],
   "source": [
    "from sklearn.datasets import load_breast_cancer \n",
    "cancer = load_breast_cancer()"
   ]
  },
  {
   "cell_type": "code",
   "execution_count": 16,
   "metadata": {},
   "outputs": [
    {
     "name": "stdout",
     "output_type": "stream",
     "text": [
      "{'malignant': 212, 'benign': 357}\n"
     ]
    }
   ],
   "source": [
    "# find target class distribution \n",
    "print({cl:ct for cl, ct in zip(cancer.target_names, np.bincount(cancer.target))})"
   ]
  },
  {
   "cell_type": "code",
   "execution_count": 17,
   "metadata": {},
   "outputs": [],
   "source": [
    "# Unbalance target labels thus need to use stratify\n",
    "from sklearn.model_selection import train_test_split\n",
    "X_train, X_test, y_train, y_test = train_test_split(cancer.data, cancer.target, \n",
    "                                                    stratify= cancer.target, random_state=66)"
   ]
  },
  {
   "cell_type": "code",
   "execution_count": 19,
   "metadata": {},
   "outputs": [],
   "source": [
    "# fit model with default setting of c=1, penalty='l2'\n",
    "from sklearn.linear_model import LogisticRegression \n",
    "logreg = LogisticRegression(max_iter=10000).fit(X_train, y_train)"
   ]
  },
  {
   "cell_type": "code",
   "execution_count": 22,
   "metadata": {},
   "outputs": [
    {
     "name": "stdout",
     "output_type": "stream",
     "text": [
      "training set accuracy: 0.98\n",
      "testing set accuracy: 0.94\n"
     ]
    }
   ],
   "source": [
    "print('training set accuracy: {:.2f}'.format(logreg.score(X_train, y_train)))\n",
    "print('testing set accuracy: {:.2f}'.format(logreg.score(X_test,y_test)))"
   ]
  },
  {
   "cell_type": "code",
   "execution_count": 25,
   "metadata": {},
   "outputs": [],
   "source": [
    "# try with higher C to increase model complexity \n",
    "logreg100 = LogisticRegression(C=100, max_iter=10000).fit(X_train, y_train)"
   ]
  },
  {
   "cell_type": "code",
   "execution_count": 26,
   "metadata": {},
   "outputs": [
    {
     "name": "stdout",
     "output_type": "stream",
     "text": [
      "training set accuracy: 0.99\n",
      "testing set accuracy: 0.97\n"
     ]
    }
   ],
   "source": [
    "print('training set accuracy: {:.2f}'.format(logreg100.score(X_train, y_train)))\n",
    "print('testing set accuracy: {:.2f}'.format(logreg100.score(X_test,y_test)))"
   ]
  },
  {
   "cell_type": "code",
   "execution_count": 27,
   "metadata": {},
   "outputs": [],
   "source": [
    "# try with lower c to increase model generalization\n",
    "logreg001 = LogisticRegression(C=0.01, max_iter=10000).fit(X_train, y_train)"
   ]
  },
  {
   "cell_type": "code",
   "execution_count": 28,
   "metadata": {},
   "outputs": [
    {
     "name": "stdout",
     "output_type": "stream",
     "text": [
      "training set accuracy: 0.96\n",
      "testing set accuracy: 0.94\n"
     ]
    }
   ],
   "source": [
    "print('training set accuracy: {:.2f}'.format(logreg001.score(X_train, y_train)))\n",
    "print('testing set accuracy: {:.2f}'.format(logreg001.score(X_test,y_test)))"
   ]
  },
  {
   "cell_type": "code",
   "execution_count": null,
   "metadata": {},
   "outputs": [],
   "source": [
    "# slightly lower training and tesgting accuracies suggest underfitting "
   ]
  },
  {
   "cell_type": "code",
   "execution_count": 31,
   "metadata": {},
   "outputs": [
    {
     "name": "stdout",
     "output_type": "stream",
     "text": [
      "training accuracy with C=0.001: 0.9178403755868545\n",
      "testing accuracy with C=0.001: 0.9020979020979021\n",
      "training accuracy with C=1: 0.9741784037558685\n",
      "testing accuracy with C=1: 0.9440559440559441\n",
      "training accuracy with C=100: 0.9953051643192489\n",
      "testing accuracy with C=100: 0.972027972027972\n"
     ]
    }
   ],
   "source": [
    "# try with l1 penalty\n",
    "for c in [0.001, 1, 100]:\n",
    "    logreg_l1 = LogisticRegression(penalty='l1', C=c, max_iter=10000, solver='liblinear').fit(X_train, y_train)\n",
    "    print('training accuracy with C={}: {}'.format(c, logreg_l1.score(X_train, y_train)))\n",
    "    print('testing accuracy with C={}: {}'.format(c, logreg_l1.score(X_test, y_test)))"
   ]
  },
  {
   "cell_type": "code",
   "execution_count": null,
   "metadata": {},
   "outputs": [],
   "source": []
  },
  {
   "cell_type": "code",
   "execution_count": null,
   "metadata": {},
   "outputs": [],
   "source": []
  },
  {
   "cell_type": "code",
   "execution_count": null,
   "metadata": {},
   "outputs": [],
   "source": []
  },
  {
   "cell_type": "code",
   "execution_count": null,
   "metadata": {},
   "outputs": [],
   "source": []
  },
  {
   "cell_type": "code",
   "execution_count": null,
   "metadata": {},
   "outputs": [],
   "source": []
  },
  {
   "cell_type": "code",
   "execution_count": null,
   "metadata": {},
   "outputs": [],
   "source": []
  },
  {
   "cell_type": "code",
   "execution_count": null,
   "metadata": {},
   "outputs": [],
   "source": []
  },
  {
   "cell_type": "code",
   "execution_count": null,
   "metadata": {},
   "outputs": [],
   "source": []
  },
  {
   "cell_type": "code",
   "execution_count": null,
   "metadata": {},
   "outputs": [],
   "source": []
  }
 ],
 "metadata": {
  "kernelspec": {
   "display_name": "Python 3",
   "language": "python",
   "name": "python3"
  },
  "language_info": {
   "codemirror_mode": {
    "name": "ipython",
    "version": 3
   },
   "file_extension": ".py",
   "mimetype": "text/x-python",
   "name": "python",
   "nbconvert_exporter": "python",
   "pygments_lexer": "ipython3",
   "version": "3.7.4"
  }
 },
 "nbformat": 4,
 "nbformat_minor": 4
}
