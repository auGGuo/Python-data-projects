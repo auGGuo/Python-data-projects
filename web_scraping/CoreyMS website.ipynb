{
 "cells": [
  {
   "cell_type": "code",
   "execution_count": 2,
   "metadata": {},
   "outputs": [],
   "source": [
    "from bs4 import BeautifulSoup"
   ]
  },
  {
   "cell_type": "code",
   "execution_count": 134,
   "metadata": {},
   "outputs": [],
   "source": [
    "import requests\n",
    "import pandas as pd"
   ]
  },
  {
   "cell_type": "code",
   "execution_count": 20,
   "metadata": {},
   "outputs": [],
   "source": [
    "#get source code \n",
    "source = requests.get('https://coreyms.com/').text\n",
    "soup = BeautifulSoup(source, 'lxml')"
   ]
  },
  {
   "cell_type": "code",
   "execution_count": 1,
   "metadata": {},
   "outputs": [
    {
     "ename": "NameError",
     "evalue": "name 'soup' is not defined",
     "output_type": "error",
     "traceback": [
      "\u001b[0;31m---------------------------------------------------------------------------\u001b[0m",
      "\u001b[0;31mNameError\u001b[0m                                 Traceback (most recent call last)",
      "\u001b[0;32m<ipython-input-1-bd14ddf9af3a>\u001b[0m in \u001b[0;36m<module>\u001b[0;34m\u001b[0m\n\u001b[0;32m----> 1\u001b[0;31m \u001b[0marticle_list\u001b[0m \u001b[0;34m=\u001b[0m \u001b[0msoup\u001b[0m\u001b[0;34m.\u001b[0m\u001b[0mfind_all\u001b[0m\u001b[0;34m(\u001b[0m\u001b[0;34m'article'\u001b[0m\u001b[0;34m)\u001b[0m\u001b[0;34m\u001b[0m\u001b[0;34m\u001b[0m\u001b[0m\n\u001b[0m\u001b[1;32m      2\u001b[0m \u001b[0marticle_list\u001b[0m\u001b[0;34m\u001b[0m\u001b[0;34m\u001b[0m\u001b[0m\n",
      "\u001b[0;31mNameError\u001b[0m: name 'soup' is not defined"
     ]
    }
   ],
   "source": [
    "article_list = soup.find_all('article')\n",
    "article_list "
   ]
  },
  {
   "cell_type": "code",
   "execution_count": 77,
   "metadata": {},
   "outputs": [
    {
     "data": {
      "text/plain": [
       "'Python Tutorial: Zip Files – Creating and Extracting Zip Archives'"
      ]
     },
     "execution_count": 77,
     "metadata": {},
     "output_type": "execute_result"
    }
   ],
   "source": [
    "article_list[0].h2.a.text"
   ]
  },
  {
   "cell_type": "code",
   "execution_count": 78,
   "metadata": {},
   "outputs": [
    {
     "data": {
      "text/plain": [
       "'Python Data Science Tutorial: Analyzing the 2019 Stack Overflow Developer Survey'"
      ]
     },
     "execution_count": 78,
     "metadata": {},
     "output_type": "execute_result"
    }
   ],
   "source": [
    "article_list[1].h2.a.text"
   ]
  },
  {
   "cell_type": "code",
   "execution_count": 79,
   "metadata": {},
   "outputs": [],
   "source": [
    "first_article_title = article_list[0].h2.a.text"
   ]
  },
  {
   "cell_type": "code",
   "execution_count": 126,
   "metadata": {},
   "outputs": [
    {
     "data": {
      "text/plain": [
       "'In this video, we will be learning how to create and extract zip archives. We will start by using the zipfile module, and then we will see how to do this using the shutil module. We will learn how to do this with single files and directories, as well as learning how to use gzip as well. Let’s get started…'"
      ]
     },
     "execution_count": 126,
     "metadata": {},
     "output_type": "execute_result"
    }
   ],
   "source": [
    "article_list[0].find('div').p.text.strip('\\n')"
   ]
  },
  {
   "cell_type": "code",
   "execution_count": 81,
   "metadata": {},
   "outputs": [
    {
     "data": {
      "text/plain": [
       "'In this Python Programming video, we will be learning how to download and analyze real-world data from the 2019 Stack Overflow Developer Survey. This is terrific practice for anyone getting into the data science field. We will learn different ways to analyze this data and also some best practices. Let’s get started…'"
      ]
     },
     "execution_count": 81,
     "metadata": {},
     "output_type": "execute_result"
    }
   ],
   "source": [
    "article_list[1].find('div').p.text.strip('\\n')"
   ]
  },
  {
   "cell_type": "code",
   "execution_count": 82,
   "metadata": {},
   "outputs": [
    {
     "data": {
      "text/plain": [
       "'In this Python Programming video, we will be learning how to run code in parallel using the multiprocessing module. We will also look at how to process multiple high-resolution images at the same time using a ProcessPoolExecutor from the concurrent.futures module. Let’s get started…'"
      ]
     },
     "execution_count": 82,
     "metadata": {},
     "output_type": "execute_result"
    }
   ],
   "source": [
    "article_list[2].find('div').p.text.strip('\\n')"
   ]
  },
  {
   "cell_type": "code",
   "execution_count": 83,
   "metadata": {},
   "outputs": [],
   "source": [
    "first_article_summary = article_list[0].find('div').p.text.strip('\\n')"
   ]
  },
  {
   "cell_type": "code",
   "execution_count": 88,
   "metadata": {},
   "outputs": [
    {
     "data": {
      "text/plain": [
       "'https://www.youtube.com/embed/z0gguhEmWiY?version=3&rel=1&fs=1&autohide=2&showsearch=0&showinfo=1&iv_load_policy=1&wmode=transparent'"
      ]
     },
     "execution_count": 88,
     "metadata": {},
     "output_type": "execute_result"
    }
   ],
   "source": [
    "article_list[0].find('iframe', class_='youtube-player')['src']"
   ]
  },
  {
   "cell_type": "code",
   "execution_count": 89,
   "metadata": {},
   "outputs": [
    {
     "data": {
      "text/plain": [
       "'https://www.youtube.com/embed/_P7X8tMplsw?version=3&rel=1&fs=1&autohide=2&showsearch=0&showinfo=1&iv_load_policy=1&wmode=transparent'"
      ]
     },
     "execution_count": 89,
     "metadata": {},
     "output_type": "execute_result"
    }
   ],
   "source": [
    "article_list[1].find('iframe', class_='youtube-player')['src']"
   ]
  },
  {
   "cell_type": "code",
   "execution_count": 93,
   "metadata": {},
   "outputs": [],
   "source": [
    "# find the video source \n",
    "first_article_vid_src = article_list[0].find('iframe', class_='youtube-player')['src']\n"
   ]
  },
  {
   "cell_type": "code",
   "execution_count": 96,
   "metadata": {},
   "outputs": [
    {
     "data": {
      "text/plain": [
       "['https:',\n",
       " '',\n",
       " 'www.youtube.com',\n",
       " 'embed',\n",
       " 'z0gguhEmWiY?version=3&rel=1&fs=1&autohide=2&showsearch=0&showinfo=1&iv_load_policy=1&wmode=transparent']"
      ]
     },
     "execution_count": 96,
     "metadata": {},
     "output_type": "execute_result"
    }
   ],
   "source": [
    "# then find the video id\n",
    "first_article_vid_src_list = first_article_vid_src.split('/')\n",
    "first_article_vid_src_list"
   ]
  },
  {
   "cell_type": "code",
   "execution_count": 102,
   "metadata": {},
   "outputs": [
    {
     "data": {
      "text/plain": [
       "'z0gguhEmWiY'"
      ]
     },
     "execution_count": 102,
     "metadata": {},
     "output_type": "execute_result"
    }
   ],
   "source": [
    "first_article_vid_src_id = first_article_vid_src_list[4].split('?')[0]\n",
    "first_article_vid_src_id"
   ]
  },
  {
   "cell_type": "code",
   "execution_count": 124,
   "metadata": {},
   "outputs": [
    {
     "data": {
      "text/plain": [
       "'z0gguhEmWiY'"
      ]
     },
     "execution_count": 124,
     "metadata": {},
     "output_type": "execute_result"
    }
   ],
   "source": [
    "# put the codes into one line \n",
    "first_article_vid_src_id = article_list[0].find('iframe', class_='youtube-player')['src'].split('/')[4].split('?')[0]\n",
    "first_article_vid_src_id"
   ]
  },
  {
   "cell_type": "code",
   "execution_count": 104,
   "metadata": {},
   "outputs": [
    {
     "data": {
      "text/plain": [
       "'https://youtube.com/watch?v=z0gguhEmWiY'"
      ]
     },
     "execution_count": 104,
     "metadata": {},
     "output_type": "execute_result"
    }
   ],
   "source": [
    "# then create the youtube link\n",
    "\n",
    "first_article_yt_link = f'https://youtube.com/watch?v={first_article_vid_src_id}'\n",
    "first_article_yt_link"
   ]
  },
  {
   "cell_type": "code",
   "execution_count": 121,
   "metadata": {},
   "outputs": [],
   "source": [
    "second_article_vid_src = article_list[1].find('iframe', class_='youtube-player')['src']\n",
    "second_article_vid_src_list = second_article_vid_src.split('/')\n",
    "second_article_vid_src_id = second_article_vid_src_list[4].split('?')[0]\n",
    "second_article_yt_link = f'https://youtube.com/watch?v={second_article_vid_src_id}'"
   ]
  },
  {
   "cell_type": "code",
   "execution_count": 122,
   "metadata": {},
   "outputs": [
    {
     "data": {
      "text/plain": [
       "'https://youtube.com/watch?v=_P7X8tMplsw'"
      ]
     },
     "execution_count": 122,
     "metadata": {},
     "output_type": "execute_result"
    }
   ],
   "source": [
    "second_article_yt_link"
   ]
  },
  {
   "cell_type": "markdown",
   "metadata": {},
   "source": [
    "### combine all code together to scrape the website"
   ]
  },
  {
   "cell_type": "code",
   "execution_count": 132,
   "metadata": {},
   "outputs": [
    {
     "data": {
      "text/plain": [
       "[{'title': 'Python Tutorial: Zip Files – Creating and Extracting Zip Archives',\n",
       "  'summary': 'In this video, we will be learning how to create and extract zip archives. We will start by using the zipfile module, and then we will see how to do this using the shutil module. We will learn how to do this with single files and directories, as well as learning how to use gzip as well. Let’s get started…',\n",
       "  'yt_link': 'https://youtube.com/watch?v=z0gguhEmWiY'},\n",
       " {'title': 'Python Data Science Tutorial: Analyzing the 2019 Stack Overflow Developer Survey',\n",
       "  'summary': 'In this Python Programming video, we will be learning how to download and analyze real-world data from the 2019 Stack Overflow Developer Survey. This is terrific practice for anyone getting into the data science field. We will learn different ways to analyze this data and also some best practices. Let’s get started…',\n",
       "  'yt_link': 'https://youtube.com/watch?v=z0gguhEmWiY'},\n",
       " {'title': 'Python Multiprocessing Tutorial: Run Code in Parallel Using the Multiprocessing Module',\n",
       "  'summary': 'In this Python Programming video, we will be learning how to run code in parallel using the multiprocessing module. We will also look at how to process multiple high-resolution images at the same time using a ProcessPoolExecutor from the concurrent.futures module. Let’s get started…',\n",
       "  'yt_link': 'https://youtube.com/watch?v=z0gguhEmWiY'},\n",
       " {'title': 'Python Threading Tutorial: Run Code Concurrently Using the Threading Module',\n",
       "  'summary': 'In this Python Programming video, we will be learning how to run threads concurrently using the threading module. We will also look at how to download multiple high-resolution images online using a ThreadPoolExecutor from the concurrent.futures module. Let’s get started…',\n",
       "  'yt_link': 'https://youtube.com/watch?v=z0gguhEmWiY'},\n",
       " {'title': 'Update (2019-09-03)',\n",
       "  'summary': 'Hey everyone. I wanted to give you an update on my videos. I will be releasing videos on threading and multiprocessing within the next week. Thanks so much for your patience. I currently have a temporary recording studio setup at my Airbnb that will allow me to record and edit the threading/multiprocessing videos. I am going to be moving into my new house in 10 days and once I have my recording studio setup then you can expect much faster video releases. I really appreciate how patient everyone has been while I go through this move, especially those of you who are contributing monthly through YouTube ',\n",
       "  'yt_link': 'https://youtube.com/watch?v=z0gguhEmWiY'},\n",
       " {'title': 'Python Quick Tip: The Difference Between “==” and “is” (Equality vs Identity)',\n",
       "  'summary': 'In this Python Programming Tutorial, we will be learning the difference between using “==” and the “is” keyword when doing comparisons. The difference between these is that “==” checks to see if values are equal, and the “is” keyword checks their identity, which means it’s going to check if the values are identical in terms of being the same object in memory. We’ll learn more in the video. Let’s get started…',\n",
       "  'yt_link': 'https://youtube.com/watch?v=z0gguhEmWiY'},\n",
       " {'title': 'Python Tutorial: Calling External Commands Using the Subprocess Module',\n",
       "  'summary': 'In this Python Programming Tutorial, we will be learning how to run external commands using the subprocess module from the standard library. We will learn how to run commands, capture the output, handle errors, and also how to pipe output into other commands. Let’s get started…',\n",
       "  'yt_link': 'https://youtube.com/watch?v=z0gguhEmWiY'},\n",
       " {'title': 'Visual Studio Code (Windows) – Setting up a Python Development Environment and Complete Overview',\n",
       "  'summary': 'In this Python Programming Tutorial, we will be learning how to set up a Python development environment in VSCode on Windows. VSCode is a very nice free editor for writing Python applications and many developers are now switching over to this editor. In this video, we will learn how to install VSCode, get the Python extension installed, how to change Python interpreters, create virtual environments, format/lint our code, how to use Git within VSCode, how to debug our programs, how unit testing works, and more. We have a lot to cover, so let’s go ahead and get started…',\n",
       "  'yt_link': 'https://youtube.com/watch?v=z0gguhEmWiY'},\n",
       " {'title': 'Visual Studio Code (Mac) – Setting up a Python Development Environment and Complete Overview',\n",
       "  'summary': 'In this Python Programming Tutorial, we will be learning how to set up a Python development environment in VSCode on MacOS. VSCode is a very nice free editor for writing Python applications and many developers are now switching over to this editor. In this video, we will learn how to install VSCode, get the Python extension installed, how to change Python interpreters, create virtual environments, format/lint our code, how to use Git within VSCode, how to debug our programs, how unit testing works, and more. We have a lot to cover, so let’s go ahead and get started…',\n",
       "  'yt_link': 'https://youtube.com/watch?v=z0gguhEmWiY'},\n",
       " {'title': 'Clarifying the Issues with Mutable Default Arguments',\n",
       "  'summary': 'In this Python Programming Tutorial, we will be clarifying the issues with mutable default arguments. We discussed this in my last video titled “5 Common Python Mistakes and How to Fix Them”, but I received many comments from people who were still confused. So we will be doing a deeper dive to explain exactly what is going on here. Let’s get started…',\n",
       "  'yt_link': 'https://youtube.com/watch?v=z0gguhEmWiY'}]"
      ]
     },
     "execution_count": 132,
     "metadata": {},
     "output_type": "execute_result"
    }
   ],
   "source": [
    "article_info_list = []\n",
    "for article in article_list:\n",
    "    title = article.h2.a.text\n",
    "    summary = article.find('div').p.text.strip('\\n')\n",
    "    vid_src_id = article_list[0].find('iframe', class_='youtube-player')['src'].split('/')[4].split('?')[0]\n",
    "    yt_link = f'https://youtube.com/watch?v={vid_src_id}'\n",
    "    article_dict = {'title':title, 'summary':summary, 'yt_link':yt_link}\n",
    "    article_info_list.append(article_dict)\n",
    "article_info_list"
   ]
  },
  {
   "cell_type": "code",
   "execution_count": 137,
   "metadata": {},
   "outputs": [
    {
     "data": {
      "text/html": [
       "<div>\n",
       "<style scoped>\n",
       "    .dataframe tbody tr th:only-of-type {\n",
       "        vertical-align: middle;\n",
       "    }\n",
       "\n",
       "    .dataframe tbody tr th {\n",
       "        vertical-align: top;\n",
       "    }\n",
       "\n",
       "    .dataframe thead th {\n",
       "        text-align: right;\n",
       "    }\n",
       "</style>\n",
       "<table border=\"1\" class=\"dataframe\">\n",
       "  <thead>\n",
       "    <tr style=\"text-align: right;\">\n",
       "      <th></th>\n",
       "      <th>title</th>\n",
       "      <th>summary</th>\n",
       "      <th>yt_link</th>\n",
       "    </tr>\n",
       "  </thead>\n",
       "  <tbody>\n",
       "    <tr>\n",
       "      <td>0</td>\n",
       "      <td>Python Tutorial: Zip Files – Creating and Extr...</td>\n",
       "      <td>In this video, we will be learning how to crea...</td>\n",
       "      <td>https://youtube.com/watch?v=z0gguhEmWiY</td>\n",
       "    </tr>\n",
       "    <tr>\n",
       "      <td>1</td>\n",
       "      <td>Python Data Science Tutorial: Analyzing the 20...</td>\n",
       "      <td>In this Python Programming video, we will be l...</td>\n",
       "      <td>https://youtube.com/watch?v=z0gguhEmWiY</td>\n",
       "    </tr>\n",
       "    <tr>\n",
       "      <td>2</td>\n",
       "      <td>Python Multiprocessing Tutorial: Run Code in P...</td>\n",
       "      <td>In this Python Programming video, we will be l...</td>\n",
       "      <td>https://youtube.com/watch?v=z0gguhEmWiY</td>\n",
       "    </tr>\n",
       "    <tr>\n",
       "      <td>3</td>\n",
       "      <td>Python Threading Tutorial: Run Code Concurrent...</td>\n",
       "      <td>In this Python Programming video, we will be l...</td>\n",
       "      <td>https://youtube.com/watch?v=z0gguhEmWiY</td>\n",
       "    </tr>\n",
       "    <tr>\n",
       "      <td>4</td>\n",
       "      <td>Update (2019-09-03)</td>\n",
       "      <td>Hey everyone. I wanted to give you an update o...</td>\n",
       "      <td>https://youtube.com/watch?v=z0gguhEmWiY</td>\n",
       "    </tr>\n",
       "    <tr>\n",
       "      <td>5</td>\n",
       "      <td>Python Quick Tip: The Difference Between “==” ...</td>\n",
       "      <td>In this Python Programming Tutorial, we will b...</td>\n",
       "      <td>https://youtube.com/watch?v=z0gguhEmWiY</td>\n",
       "    </tr>\n",
       "    <tr>\n",
       "      <td>6</td>\n",
       "      <td>Python Tutorial: Calling External Commands Usi...</td>\n",
       "      <td>In this Python Programming Tutorial, we will b...</td>\n",
       "      <td>https://youtube.com/watch?v=z0gguhEmWiY</td>\n",
       "    </tr>\n",
       "    <tr>\n",
       "      <td>7</td>\n",
       "      <td>Visual Studio Code (Windows) – Setting up a Py...</td>\n",
       "      <td>In this Python Programming Tutorial, we will b...</td>\n",
       "      <td>https://youtube.com/watch?v=z0gguhEmWiY</td>\n",
       "    </tr>\n",
       "    <tr>\n",
       "      <td>8</td>\n",
       "      <td>Visual Studio Code (Mac) – Setting up a Python...</td>\n",
       "      <td>In this Python Programming Tutorial, we will b...</td>\n",
       "      <td>https://youtube.com/watch?v=z0gguhEmWiY</td>\n",
       "    </tr>\n",
       "    <tr>\n",
       "      <td>9</td>\n",
       "      <td>Clarifying the Issues with Mutable Default Arg...</td>\n",
       "      <td>In this Python Programming Tutorial, we will b...</td>\n",
       "      <td>https://youtube.com/watch?v=z0gguhEmWiY</td>\n",
       "    </tr>\n",
       "  </tbody>\n",
       "</table>\n",
       "</div>"
      ],
      "text/plain": [
       "                                               title  \\\n",
       "0  Python Tutorial: Zip Files – Creating and Extr...   \n",
       "1  Python Data Science Tutorial: Analyzing the 20...   \n",
       "2  Python Multiprocessing Tutorial: Run Code in P...   \n",
       "3  Python Threading Tutorial: Run Code Concurrent...   \n",
       "4                                Update (2019-09-03)   \n",
       "5  Python Quick Tip: The Difference Between “==” ...   \n",
       "6  Python Tutorial: Calling External Commands Usi...   \n",
       "7  Visual Studio Code (Windows) – Setting up a Py...   \n",
       "8  Visual Studio Code (Mac) – Setting up a Python...   \n",
       "9  Clarifying the Issues with Mutable Default Arg...   \n",
       "\n",
       "                                             summary  \\\n",
       "0  In this video, we will be learning how to crea...   \n",
       "1  In this Python Programming video, we will be l...   \n",
       "2  In this Python Programming video, we will be l...   \n",
       "3  In this Python Programming video, we will be l...   \n",
       "4  Hey everyone. I wanted to give you an update o...   \n",
       "5  In this Python Programming Tutorial, we will b...   \n",
       "6  In this Python Programming Tutorial, we will b...   \n",
       "7  In this Python Programming Tutorial, we will b...   \n",
       "8  In this Python Programming Tutorial, we will b...   \n",
       "9  In this Python Programming Tutorial, we will b...   \n",
       "\n",
       "                                   yt_link  \n",
       "0  https://youtube.com/watch?v=z0gguhEmWiY  \n",
       "1  https://youtube.com/watch?v=z0gguhEmWiY  \n",
       "2  https://youtube.com/watch?v=z0gguhEmWiY  \n",
       "3  https://youtube.com/watch?v=z0gguhEmWiY  \n",
       "4  https://youtube.com/watch?v=z0gguhEmWiY  \n",
       "5  https://youtube.com/watch?v=z0gguhEmWiY  \n",
       "6  https://youtube.com/watch?v=z0gguhEmWiY  \n",
       "7  https://youtube.com/watch?v=z0gguhEmWiY  \n",
       "8  https://youtube.com/watch?v=z0gguhEmWiY  \n",
       "9  https://youtube.com/watch?v=z0gguhEmWiY  "
      ]
     },
     "execution_count": 137,
     "metadata": {},
     "output_type": "execute_result"
    }
   ],
   "source": [
    "# turn it into a df\n",
    "\n",
    "article_df = pd.DataFrame(article_info_list)\n",
    "article_df"
   ]
  },
  {
   "cell_type": "code",
   "execution_count": 138,
   "metadata": {},
   "outputs": [],
   "source": [
    "# save it into a file \n",
    "article_df.to_csv('coreyMS_web_scraping.csv', encoding='utf-8', index=False)"
   ]
  },
  {
   "cell_type": "code",
   "execution_count": null,
   "metadata": {},
   "outputs": [],
   "source": []
  }
 ],
 "metadata": {
  "kernelspec": {
   "display_name": "Python 3",
   "language": "python",
   "name": "python3"
  },
  "language_info": {
   "codemirror_mode": {
    "name": "ipython",
    "version": 3
   },
   "file_extension": ".py",
   "mimetype": "text/x-python",
   "name": "python",
   "nbconvert_exporter": "python",
   "pygments_lexer": "ipython3",
   "version": "3.7.4"
  }
 },
 "nbformat": 4,
 "nbformat_minor": 4
}
